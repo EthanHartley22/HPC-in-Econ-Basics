{
 "cells": [
  {
   "cell_type": "markdown",
   "metadata": {},
   "source": [
    "### Collecting [Current Population Survey (CPS) Basic Monthly Data](https://www.nber.org/research/data/current-population-survey-cps-basic-monthly-data)\n",
    "\n",
    "base_path = \"https://data.nber.org/cps-basic3/dat/1976/cpsb197601.dat\""
   ]
  },
  {
   "cell_type": "code",
   "execution_count": 1,
   "metadata": {},
   "outputs": [
    {
     "name": "stdout",
     "output_type": "stream",
     "text": [
      "File paths written to NBER_CPS_Data/_paths.txt\n"
     ]
    }
   ],
   "source": [
    "import os\n",
    "\n",
    "# Define output directory\n",
    "output_dir = \"NBER_CPS_Data\"\n",
    "os.makedirs(output_dir, exist_ok=True)  # Create directory if it doesn't exist\n",
    "\n",
    "# Define base path components\n",
    "years = ['1976', '2000', '2020']\n",
    "months = ['01', '02', '03', '04', '05', '06', '07', '08', '09', '10', '11', '12']\n",
    "\n",
    "# Generate file paths\n",
    "paths = [\n",
    "    f\"https://data.nber.org/cps-basic3/dat/{year}/cpsb{year}{month}.dat\"\n",
    "    for year in years for month in months\n",
    "]\n",
    "\n",
    "# Write paths to _paths.txt\n",
    "paths_file = os.path.join(output_dir, \"_paths.txt\")\n",
    "with open(paths_file, \"w\") as f:\n",
    "    f.write(\"\\n\".join(paths))\n",
    "\n",
    "print(f\"File paths written to {paths_file}\")\n"
   ]
  },
  {
   "cell_type": "markdown",
   "metadata": {},
   "source": [
    "Launch a tmux session and run:\n",
    "\n",
    "```bash\n",
    "\n",
    "cd Coding_Workshop/NBER_CPS_Data\n",
    "\n",
    "wget -i _paths.txt \n",
    "\n",
    "```"
   ]
  }
 ],
 "metadata": {
  "kernelspec": {
   "display_name": "ecn_workshop",
   "language": "python",
   "name": "python3"
  },
  "language_info": {
   "codemirror_mode": {
    "name": "ipython",
    "version": 3
   },
   "file_extension": ".py",
   "mimetype": "text/x-python",
   "name": "python",
   "nbconvert_exporter": "python",
   "pygments_lexer": "ipython3",
   "version": "3.11.8"
  }
 },
 "nbformat": 4,
 "nbformat_minor": 2
}
