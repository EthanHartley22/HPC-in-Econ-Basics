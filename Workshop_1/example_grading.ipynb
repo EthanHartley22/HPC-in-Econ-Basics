{
 "cells": [
  {
   "cell_type": "code",
   "execution_count": 1,
   "metadata": {},
   "outputs": [],
   "source": [
    "import os\n",
    "from PyPDF2 import PdfReader, PdfWriter\n",
    "from PIL import Image\n",
    "import io"
   ]
  },
  {
   "cell_type": "code",
   "execution_count": 2,
   "metadata": {},
   "outputs": [
    {
     "name": "stdout",
     "output_type": "stream",
     "text": [
      "Combined PDF saved to: Grading/output_combined.pdf\n"
     ]
    }
   ],
   "source": [
    "# Function to concatenate PDFs\n",
    "def concat_pdfs(pdf_files, output_path):\n",
    "    pdf_writer = PdfWriter()\n",
    "    \n",
    "    for pdf_file in pdf_files:\n",
    "        with open(pdf_file, \"rb\") as f:\n",
    "            pdf_reader = PdfReader(f)\n",
    "            for page in range(len(pdf_reader.pages)):\n",
    "                pdf_writer.add_page(pdf_reader.pages[page])\n",
    "    \n",
    "    with open(output_path, \"wb\") as f_out:\n",
    "        pdf_writer.write(f_out)\n",
    "\n",
    "# Function to convert images to PDFs and return the file paths\n",
    "def image_to_pdf(image_files):\n",
    "    pdf_files = []\n",
    "    \n",
    "    for img_file in image_files:\n",
    "        img = Image.open(img_file)\n",
    "        pdf_path = img_file.replace(img_file.split('.')[-1], 'pdf')\n",
    "        img.convert('RGB').save(pdf_path)  # Convert and save as PDF\n",
    "        pdf_files.append(pdf_path)\n",
    "    \n",
    "    return pdf_files\n",
    "\n",
    "# Function to find all 'all_files.pdf' in subdirectories\n",
    "def find_pdf_files(base_directory):\n",
    "    pdf_files = []\n",
    "    \n",
    "    for root, dirs, files in os.walk(base_directory):\n",
    "        for file in files:\n",
    "            if file == 'all_files.pdf':\n",
    "                pdf_files.append(os.path.join(root, file))\n",
    "    \n",
    "    return pdf_files\n",
    "\n",
    "# Main function to combine the found PDFs\n",
    "def combine_all_files(base_directory, output_pdf):\n",
    "    pdf_files = find_pdf_files(base_directory)\n",
    "    \n",
    "    if pdf_files:\n",
    "        concat_pdfs(pdf_files, output_pdf)\n",
    "        print(f\"Combined PDF saved to: {output_pdf}\")\n",
    "    else:\n",
    "        print(\"No 'all_files.pdf' found in subdirectories.\")\n",
    "\n",
    "\n",
    "base_directory = 'Grading'\n",
    "# Iterate over student directories\n",
    "student_directories = os.listdir(base_directory)\n",
    "\n",
    "for student_dir in student_directories:\n",
    "    student_path = os.path.join(base_directory, student_dir)\n",
    "    \n",
    "    if os.path.isdir(student_path):\n",
    "        pdf_files = []\n",
    "        image_files = []\n",
    "\n",
    "        # Collect the PDF and image files\n",
    "        for filename in os.listdir(student_path):\n",
    "            file_path = os.path.join(student_path, filename)\n",
    "            if filename.endswith('.pdf'):\n",
    "                pdf_files.append(file_path)\n",
    "            elif filename.endswith(('.jpg', '.jpeg', '.png')):\n",
    "                image_files.append(file_path)\n",
    "        \n",
    "        # Convert images to PDFs\n",
    "        image_pdfs = image_to_pdf(image_files)\n",
    "        \n",
    "        # Combine all PDFs (including converted images)\n",
    "        all_pdfs = pdf_files + image_pdfs\n",
    "        \n",
    "        if all_pdfs:\n",
    "            output_pdf_path = os.path.join(student_path, 'all_files.pdf')\n",
    "            concat_pdfs(all_pdfs, output_pdf_path)\n",
    "            \n",
    "            # Optionally, remove the intermediate image PDFs if you don't want to keep them\n",
    "            for image_pdf in image_pdfs:\n",
    "                os.remove(image_pdf)\n",
    "\n",
    "# Specify the base directory and output file path\n",
    "destination_path = 'Grading' # Change this to your desired directory path\n",
    "output_pdf = os.path.join(destination_path, 'output_combined.pdf')\n",
    "\n",
    "combine_all_files(base_directory, output_pdf)"
   ]
  },
  {
   "cell_type": "code",
   "execution_count": null,
   "metadata": {},
   "outputs": [],
   "source": []
  }
 ],
 "metadata": {
  "kernelspec": {
   "display_name": "baseline",
   "language": "python",
   "name": "python3"
  },
  "language_info": {
   "codemirror_mode": {
    "name": "ipython",
    "version": 3
   },
   "file_extension": ".py",
   "mimetype": "text/x-python",
   "name": "python",
   "nbconvert_exporter": "python",
   "pygments_lexer": "ipython3",
   "version": "3.11.8"
  }
 },
 "nbformat": 4,
 "nbformat_minor": 2
}
